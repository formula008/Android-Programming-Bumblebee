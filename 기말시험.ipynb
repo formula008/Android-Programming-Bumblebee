{
  "nbformat": 4,
  "nbformat_minor": 0,
  "metadata": {
    "colab": {
      "provenance": [],
      "authorship_tag": "ABX9TyO2lu1O8gE23sPSY7NtiYrt",
      "include_colab_link": true
    },
    "kernelspec": {
      "name": "python3",
      "display_name": "Python 3"
    },
    "language_info": {
      "name": "python"
    }
  },
  "cells": [
    {
      "cell_type": "markdown",
      "metadata": {
        "id": "view-in-github",
        "colab_type": "text"
      },
      "source": [
        "<a href=\"https://colab.research.google.com/github/formula008/Computational-Thinking/blob/main/%EA%B8%B0%EB%A7%90%EC%8B%9C%ED%97%98.ipynb\" target=\"_parent\"><img src=\"https://colab.research.google.com/assets/colab-badge.svg\" alt=\"Open In Colab\"/></a>"
      ]
    },
    {
      "cell_type": "markdown",
      "source": [
        "[문제01]"
      ],
      "metadata": {
        "id": "dTLC5GquUIv6"
      }
    },
    {
      "cell_type": "code",
      "execution_count": null,
      "metadata": {
        "id": "CrHsan0wTwPQ"
      },
      "outputs": [],
      "source": []
    },
    {
      "cell_type": "markdown",
      "source": [
        "[문제02]"
      ],
      "metadata": {
        "id": "vVZOA_mHUMwJ"
      }
    },
    {
      "cell_type": "code",
      "source": [],
      "metadata": {
        "id": "QHqv7PwVUObB"
      },
      "execution_count": null,
      "outputs": []
    },
    {
      "cell_type": "markdown",
      "source": [
        "[문제03]"
      ],
      "metadata": {
        "id": "wXulRLAqUZ2y"
      }
    },
    {
      "cell_type": "code",
      "source": [],
      "metadata": {
        "id": "DG91A34xUdN6"
      },
      "execution_count": null,
      "outputs": []
    }
  ]
}