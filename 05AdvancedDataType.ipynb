{
  "nbformat": 4,
  "nbformat_minor": 0,
  "metadata": {
    "colab": {
      "provenance": [],
      "authorship_tag": "ABX9TyMPuM87g5J+QXIgVGBOIL1q",
      "include_colab_link": true
    },
    "kernelspec": {
      "name": "python3",
      "display_name": "Python 3"
    },
    "language_info": {
      "name": "python"
    }
  },
  "cells": [
    {
      "cell_type": "markdown",
      "metadata": {
        "id": "view-in-github",
        "colab_type": "text"
      },
      "source": [
        "<a href=\"https://colab.research.google.com/github/formula008/Computational-Thinking/blob/main/05AdvancedDataType.ipynb\" target=\"_parent\"><img src=\"https://colab.research.google.com/assets/colab-badge.svg\" alt=\"Open In Colab\"/></a>"
      ]
    },
    {
      "cell_type": "markdown",
      "source": [
        "# 예제5-1 일반변수 사용"
      ],
      "metadata": {
        "id": "yD7fSTawYdXq"
      }
    },
    {
      "cell_type": "code",
      "execution_count": null,
      "metadata": {
        "id": "tWEE10oYYRiM"
      },
      "outputs": [],
      "source": [
        "hap=0\n",
        "a=int(input('num1:'))\n",
        "b=int(input('num2:'))\n",
        "c=int(input('num3:'))\n",
        "d=int(input('num4:'))\n",
        "\n",
        "hap=a+b+c+d\n",
        "\n",
        "print('hap',hap)"
      ]
    },
    {
      "cell_type": "markdown",
      "source": [
        "# 예제5-2 리스트 변수 사용"
      ],
      "metadata": {
        "id": "T65JwM7XYqH7"
      }
    },
    {
      "cell_type": "code",
      "source": [
        "a=[10,10,10,10]\n",
        "a[0]=int(input('num1:'))\n",
        "a[1]=int(input('num2:'))\n",
        "a[2]=int(input('num3:'))\n",
        "a[3]=int(input('num4:'))\n",
        "\n",
        "hap=a[0]+a[1]+a[2]+a[3]\n",
        "\n",
        "print('hap',hap)"
      ],
      "metadata": {
        "id": "5lrR7VFnYuiK"
      },
      "execution_count": null,
      "outputs": []
    },
    {
      "cell_type": "markdown",
      "source": [
        "## 5.6 컬렉션 자료형 실습\n",
        "# 실습5-1 다음 파이썬 코드의 결과를 예측해 보자"
      ],
      "metadata": {
        "id": "gBKv-ioHmxMG"
      }
    },
    {
      "cell_type": "code",
      "source": [
        "color=['red','yellow']\n",
        "color.append('green')\n",
        "print(color)"
      ],
      "metadata": {
        "colab": {
          "base_uri": "https://localhost:8080/"
        },
        "id": "x3O-hl2rm_nt",
        "outputId": "e461b3e6-b193-484a-b2f0-227571b55485"
      },
      "execution_count": 3,
      "outputs": [
        {
          "output_type": "stream",
          "name": "stdout",
          "text": [
            "['red', 'yellow', 'green']\n"
          ]
        }
      ]
    },
    {
      "cell_type": "code",
      "source": [
        "color.pop()"
      ],
      "metadata": {
        "colab": {
          "base_uri": "https://localhost:8080/",
          "height": 35
        },
        "id": "kEEtKyNhnpjW",
        "outputId": "b2cb4fc1-44ab-45e4-b423-913ca7e75699"
      },
      "execution_count": 4,
      "outputs": [
        {
          "output_type": "execute_result",
          "data": {
            "text/plain": [
              "'green'"
            ],
            "application/vnd.google.colaboratory.intrinsic+json": {
              "type": "string"
            }
          },
          "metadata": {},
          "execution_count": 4
        }
      ]
    },
    {
      "cell_type": "code",
      "source": [
        "color.insert(1,'orange')\n",
        "print(color)"
      ],
      "metadata": {
        "colab": {
          "base_uri": "https://localhost:8080/"
        },
        "id": "xt6QxW6Inpkr",
        "outputId": "89e3f6c1-4dda-4333-c38b-e0c44a06b297"
      },
      "execution_count": 5,
      "outputs": [
        {
          "output_type": "execute_result",
          "data": {
            "text/plain": [
              "['red', 'orange', 'yellow']"
            ]
          },
          "metadata": {},
          "execution_count": 5
        }
      ]
    },
    {
      "cell_type": "code",
      "source": [
        "color.index('orange')"
      ],
      "metadata": {
        "colab": {
          "base_uri": "https://localhost:8080/"
        },
        "id": "opRadU04n44H",
        "outputId": "dacf47c9-59e9-4efa-a855-a7bbcb776a4c"
      },
      "execution_count": 6,
      "outputs": [
        {
          "output_type": "execute_result",
          "data": {
            "text/plain": [
              "1"
            ]
          },
          "metadata": {},
          "execution_count": 6
        }
      ]
    },
    {
      "cell_type": "code",
      "source": [
        "len(color)"
      ],
      "metadata": {
        "colab": {
          "base_uri": "https://localhost:8080/"
        },
        "id": "uikI9PbWn440",
        "outputId": "4474dc2b-7427-42a5-c836-39f1bcb33830"
      },
      "execution_count": 7,
      "outputs": [
        {
          "output_type": "execute_result",
          "data": {
            "text/plain": [
              "3"
            ]
          },
          "metadata": {},
          "execution_count": 7
        }
      ]
    },
    {
      "cell_type": "markdown",
      "source": [
        "# 실습5-2 다음 파이썬 코드의 결과를 예측해 보자"
      ],
      "metadata": {
        "id": "puA1jfbapppe"
      }
    },
    {
      "cell_type": "code",
      "source": [
        "score=list(range(1,6))\n",
        "print(score)"
      ],
      "metadata": {
        "colab": {
          "base_uri": "https://localhost:8080/"
        },
        "id": "JB2fTdSip7z9",
        "outputId": "3a8e8afe-a5da-42bd-ce98-4f209f61bc7b"
      },
      "execution_count": 9,
      "outputs": [
        {
          "output_type": "stream",
          "name": "stdout",
          "text": [
            "[1, 2, 3, 4, 5]\n"
          ]
        }
      ]
    },
    {
      "cell_type": "code",
      "source": [
        "score[2]"
      ],
      "metadata": {
        "colab": {
          "base_uri": "https://localhost:8080/"
        },
        "id": "CY3qQALTqUTF",
        "outputId": "1de95d6c-00ae-4d95-b533-7a1b7c66ccf2"
      },
      "execution_count": 10,
      "outputs": [
        {
          "output_type": "execute_result",
          "data": {
            "text/plain": [
              "3"
            ]
          },
          "metadata": {},
          "execution_count": 10
        }
      ]
    },
    {
      "cell_type": "code",
      "source": [
        "score[:3]"
      ],
      "metadata": {
        "colab": {
          "base_uri": "https://localhost:8080/"
        },
        "id": "CVmMmgPoqUT_",
        "outputId": "701f6f64-3f65-4a85-e7ee-d57c9f74cfbf"
      },
      "execution_count": 11,
      "outputs": [
        {
          "output_type": "execute_result",
          "data": {
            "text/plain": [
              "[1, 2, 3]"
            ]
          },
          "metadata": {},
          "execution_count": 11
        }
      ]
    },
    {
      "cell_type": "code",
      "source": [
        "score[-1]"
      ],
      "metadata": {
        "colab": {
          "base_uri": "https://localhost:8080/"
        },
        "id": "xAl7rUyeqUwM",
        "outputId": "c33b743f-15a1-48a8-89ea-a93fa5a5d6ec"
      },
      "execution_count": 12,
      "outputs": [
        {
          "output_type": "execute_result",
          "data": {
            "text/plain": [
              "5"
            ]
          },
          "metadata": {},
          "execution_count": 12
        }
      ]
    },
    {
      "cell_type": "code",
      "source": [
        "score[2:4]"
      ],
      "metadata": {
        "colab": {
          "base_uri": "https://localhost:8080/"
        },
        "id": "aAtXx4ukqVoN",
        "outputId": "5cac1c41-6974-4c15-890e-1cc5a8c991db"
      },
      "execution_count": 13,
      "outputs": [
        {
          "output_type": "execute_result",
          "data": {
            "text/plain": [
              "[3, 4]"
            ]
          },
          "metadata": {},
          "execution_count": 13
        }
      ]
    },
    {
      "cell_type": "code",
      "source": [
        "score[3:]"
      ],
      "metadata": {
        "colab": {
          "base_uri": "https://localhost:8080/"
        },
        "id": "d39AYxx8qXS9",
        "outputId": "caad7c7f-60d6-4223-c0d3-1376903ede83"
      },
      "execution_count": 14,
      "outputs": [
        {
          "output_type": "execute_result",
          "data": {
            "text/plain": [
              "[4, 5]"
            ]
          },
          "metadata": {},
          "execution_count": 14
        }
      ]
    },
    {
      "cell_type": "markdown",
      "source": [
        "# 실습5-3 다음 파이썬 코드의 결과를 예측해 보자"
      ],
      "metadata": {
        "id": "ec7itk1srPhN"
      }
    },
    {
      "cell_type": "code",
      "source": [
        "A={1,2,3}\n",
        "B={3,4,5,5}\n",
        "A | B"
      ],
      "metadata": {
        "colab": {
          "base_uri": "https://localhost:8080/"
        },
        "id": "Smjk7sE2ra9t",
        "outputId": "d2fdb1a7-23aa-4b9f-c1de-cc93a7221e77"
      },
      "execution_count": 15,
      "outputs": [
        {
          "output_type": "execute_result",
          "data": {
            "text/plain": [
              "{1, 2, 3, 4, 5}"
            ]
          },
          "metadata": {},
          "execution_count": 15
        }
      ]
    },
    {
      "cell_type": "code",
      "source": [
        "A & B"
      ],
      "metadata": {
        "colab": {
          "base_uri": "https://localhost:8080/"
        },
        "id": "-I7gHVAursQb",
        "outputId": "a12c9d69-7193-4404-e5c9-5d80a8ee57c5"
      },
      "execution_count": 16,
      "outputs": [
        {
          "output_type": "execute_result",
          "data": {
            "text/plain": [
              "{3}"
            ]
          },
          "metadata": {},
          "execution_count": 16
        }
      ]
    },
    {
      "cell_type": "code",
      "source": [
        "A- B"
      ],
      "metadata": {
        "colab": {
          "base_uri": "https://localhost:8080/"
        },
        "id": "mkH7s20_rwBs",
        "outputId": "f609a899-9b51-46d3-e6e4-675f5be67af0"
      },
      "execution_count": 17,
      "outputs": [
        {
          "output_type": "execute_result",
          "data": {
            "text/plain": [
              "{1, 2}"
            ]
          },
          "metadata": {},
          "execution_count": 17
        }
      ]
    },
    {
      "cell_type": "markdown",
      "source": [
        "# 5.7 컬렉션 자료형 도전문제\n",
        "## 5장 도전1-1 다음 파이썬 코드의 실행결과가 나오도록 괄호 안에 채우자"
      ],
      "metadata": {
        "id": "iYwRUZZnr2e8"
      }
    },
    {
      "cell_type": "code",
      "source": [
        "spot=['명동','가로수길','홍대','대학로']\n",
        "select=(spot[2:])\n",
        "print(select)"
      ],
      "metadata": {
        "colab": {
          "base_uri": "https://localhost:8080/"
        },
        "id": "7mUjAp72r6UU",
        "outputId": "01815684-b66f-4aa8-9748-3c93b6e84d6e"
      },
      "execution_count": 19,
      "outputs": [
        {
          "output_type": "stream",
          "name": "stdout",
          "text": [
            "['홍대', '대학로']\n"
          ]
        }
      ]
    },
    {
      "cell_type": "markdown",
      "source": [
        "# 5장 도전1-2 파이썬 코드를 실행한 결과가 나오게 하기 위해 괄호 안에 들어갈 명령문을 작성해 보자"
      ],
      "metadata": {
        "id": "y7GxB4j6st2r"
      }
    },
    {
      "cell_type": "code",
      "source": [
        "num=[50,30,70,40]\n",
        "num.sort()\n",
        "num.remove(30)\n",
        "print(num)"
      ],
      "metadata": {
        "colab": {
          "base_uri": "https://localhost:8080/"
        },
        "id": "BH7Sv3xkr6VM",
        "outputId": "908ab996-28a7-4eef-99d4-e16f29e5a7b2"
      },
      "execution_count": 22,
      "outputs": [
        {
          "output_type": "stream",
          "name": "stdout",
          "text": [
            "[40, 50, 70]\n"
          ]
        }
      ]
    },
    {
      "cell_type": "markdown",
      "source": [
        "# 5장 도전 1-3 아래와 같은 실행 결과가 나오도록 밑줄에 적당한 함수로 채우자"
      ],
      "metadata": {
        "id": "qdIAU51mtift"
      }
    },
    {
      "cell_type": "code",
      "source": [
        "people={100:'yang',200:'jang',300:'o'}\n",
        "list(people. keys() )"
      ],
      "metadata": {
        "colab": {
          "base_uri": "https://localhost:8080/"
        },
        "id": "kJ_-39jptxAb",
        "outputId": "6e30ab8b-b772-4f9f-b52c-b5c4ffcff400"
      },
      "execution_count": 31,
      "outputs": [
        {
          "output_type": "execute_result",
          "data": {
            "text/plain": [
              "[100, 200, 300]"
            ]
          },
          "metadata": {},
          "execution_count": 31
        }
      ]
    },
    {
      "cell_type": "code",
      "source": [
        "list(people. values() )"
      ],
      "metadata": {
        "colab": {
          "base_uri": "https://localhost:8080/"
        },
        "id": "pfs9zDJCuEUr",
        "outputId": "de317217-7f8b-4706-d46b-3791954816d6"
      },
      "execution_count": 32,
      "outputs": [
        {
          "output_type": "execute_result",
          "data": {
            "text/plain": [
              "['yang', 'jang', 'o']"
            ]
          },
          "metadata": {},
          "execution_count": 32
        }
      ]
    },
    {
      "cell_type": "code",
      "source": [
        "list(people.items())"
      ],
      "metadata": {
        "colab": {
          "base_uri": "https://localhost:8080/"
        },
        "id": "tKO5KK_-uHC7",
        "outputId": "e191a1eb-0216-4e1c-afc4-b1635f6d811a"
      },
      "execution_count": 33,
      "outputs": [
        {
          "output_type": "execute_result",
          "data": {
            "text/plain": [
              "[(100, 'yang'), (200, 'jang'), (300, 'o')]"
            ]
          },
          "metadata": {},
          "execution_count": 33
        }
      ]
    },
    {
      "cell_type": "code",
      "source": [
        "people.get(200)"
      ],
      "metadata": {
        "colab": {
          "base_uri": "https://localhost:8080/",
          "height": 35
        },
        "id": "vx2SFmrcuSNT",
        "outputId": "5f576482-8c49-4a6a-c221-a375802c3117"
      },
      "execution_count": 34,
      "outputs": [
        {
          "output_type": "execute_result",
          "data": {
            "text/plain": [
              "'jang'"
            ],
            "application/vnd.google.colaboratory.intrinsic+json": {
              "type": "string"
            }
          },
          "metadata": {},
          "execution_count": 34
        }
      ]
    },
    {
      "cell_type": "code",
      "source": [
        "del(people[100])"
      ],
      "metadata": {
        "id": "ibRiXeqnuYQL"
      },
      "execution_count": 35,
      "outputs": []
    },
    {
      "cell_type": "code",
      "source": [
        "print(people)"
      ],
      "metadata": {
        "colab": {
          "base_uri": "https://localhost:8080/"
        },
        "id": "zENHOpEtusRz",
        "outputId": "baeb6f87-9a0f-4599-ff84-9c0c65b6e1f9"
      },
      "execution_count": 36,
      "outputs": [
        {
          "output_type": "stream",
          "name": "stdout",
          "text": [
            "{200: 'jang', 300: 'o'}\n"
          ]
        }
      ]
    }
  ]
}