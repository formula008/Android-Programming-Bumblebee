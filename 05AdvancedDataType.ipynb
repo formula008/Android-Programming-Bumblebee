{
  "nbformat": 4,
  "nbformat_minor": 0,
  "metadata": {
    "colab": {
      "provenance": [],
      "authorship_tag": "ABX9TyOYjauRqWuYmJ+VwnGb33Ov",
      "include_colab_link": true
    },
    "kernelspec": {
      "name": "python3",
      "display_name": "Python 3"
    },
    "language_info": {
      "name": "python"
    }
  },
  "cells": [
    {
      "cell_type": "markdown",
      "metadata": {
        "id": "view-in-github",
        "colab_type": "text"
      },
      "source": [
        "<a href=\"https://colab.research.google.com/github/formula008/Computational-Thinking/blob/main/05AdvancedDataType.ipynb\" target=\"_parent\"><img src=\"https://colab.research.google.com/assets/colab-badge.svg\" alt=\"Open In Colab\"/></a>"
      ]
    },
    {
      "cell_type": "markdown",
      "source": [
        "# 예제5-1 일반변수 사용"
      ],
      "metadata": {
        "id": "yD7fSTawYdXq"
      }
    },
    {
      "cell_type": "code",
      "execution_count": null,
      "metadata": {
        "id": "tWEE10oYYRiM"
      },
      "outputs": [],
      "source": [
        "hap=0\n",
        "a=int(input('num1:'))\n",
        "b=int(input('num2:'))\n",
        "c=int(input('num3:'))\n",
        "d=int(input('num4:'))\n",
        "\n",
        "hap=a+b+c+d\n",
        "\n",
        "print('hap',hap)"
      ]
    },
    {
      "cell_type": "markdown",
      "source": [
        "# 예제5-2 리스트 변수 사용"
      ],
      "metadata": {
        "id": "T65JwM7XYqH7"
      }
    },
    {
      "cell_type": "code",
      "source": [
        "a=[10,10,10,10]\n",
        "a[0]=int(input('num1:'))\n",
        "a[1]=int(input('num2:'))\n",
        "a[2]=int(input('num3:'))\n",
        "a[3]=int(input('num4:'))\n",
        "\n",
        "hap=a[0]+a[1]+a[2]+a[3]\n",
        "\n",
        "print('hap',hap)"
      ],
      "metadata": {
        "id": "5lrR7VFnYuiK"
      },
      "execution_count": null,
      "outputs": []
    }
  ]
}