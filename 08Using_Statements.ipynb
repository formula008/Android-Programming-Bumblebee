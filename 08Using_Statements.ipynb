{
  "nbformat": 4,
  "nbformat_minor": 0,
  "metadata": {
    "colab": {
      "provenance": [],
      "authorship_tag": "ABX9TyPZg6r5PuIOwuQKEWINucbN",
      "include_colab_link": true
    },
    "kernelspec": {
      "name": "python3",
      "display_name": "Python 3"
    },
    "language_info": {
      "name": "python"
    }
  },
  "cells": [
    {
      "cell_type": "markdown",
      "metadata": {
        "id": "view-in-github",
        "colab_type": "text"
      },
      "source": [
        "<a href=\"https://colab.research.google.com/github/formula008/Computational-Thinking/blob/main/08Using_Statements.ipynb\" target=\"_parent\"><img src=\"https://colab.research.google.com/assets/colab-badge.svg\" alt=\"Open In Colab\"/></a>"
      ]
    },
    {
      "cell_type": "markdown",
      "source": [
        "# [예제8-1] 이번 학기 수강하는 과목의 점수를 리스트에 저장하고 점수가 70점 이상인 과목의 개수를 출력하는 문제이다. 리스트의 요소를 처음부터 끝까지 차례대로 방문하여 리스트의 요소가 70점인 점수를 누적하여 출력해주는 프로그램이다.(for문과 if문 활용) "
      ],
      "metadata": {
        "id": "w4oD7IKiV0e-"
      }
    },
    {
      "cell_type": "code",
      "execution_count": 1,
      "metadata": {
        "id": "afUkPIpRTSHF",
        "colab": {
          "base_uri": "https://localhost:8080/"
        },
        "outputId": "acbd7446-3371-470e-9da0-71ebd96f7aab"
      },
      "outputs": [
        {
          "output_type": "stream",
          "name": "stdout",
          "text": [
            "count: 3\n"
          ]
        }
      ],
      "source": [
        "# 예제 8-1\n",
        "\n",
        "score=[70,90,60,100,50] #리스트 초기화\n",
        "cnt=0 # 반드시 초기화, 카운트 변수\n",
        "\n",
        "\n",
        "\n",
        "print('count:',cnt)"
      ]
    },
    {
      "cell_type": "markdown",
      "source": [
        "# [예제8-2] 사용자로부터 시작, 끝 값을 입력 받은 후 시작과 끝 값 사이의 전체 합계, 짝수의 합, 홀수의 합을 출력하는 프로그램이다.(for문과 if~else문 활용)"
      ],
      "metadata": {
        "id": "wVmR3y_aV7YW"
      }
    },
    {
      "cell_type": "code",
      "source": [
        "# 예제 8-2\n",
        "\n",
        "s=int(input('start num: ')) #시작번호\n",
        "e=int(input('end num: '))   #종료번호\n",
        "\n",
        "# 변수의 초기화\n",
        "total, even, odd=0,0,0 #전체합계, 짝수의합, 홀수의합을 저장하는 변수\n",
        "\n",
        "\n",
        "\n",
        "\n",
        "\n",
        "\n",
        "print('전체합계 : ',total)\n",
        "print('짝수의 합: ',even)\n",
        "print('홀수의 합: ',odd)"
      ],
      "metadata": {
        "id": "BvsXEgJIWFa-",
        "colab": {
          "base_uri": "https://localhost:8080/"
        },
        "outputId": "4dc39827-14cb-4063-eca1-0371bee5fcba"
      },
      "execution_count": 2,
      "outputs": [
        {
          "output_type": "stream",
          "name": "stdout",
          "text": [
            "start num: 1\n",
            "end num: 10\n",
            "전체합계 :  55\n",
            "짝수의 합:  30\n",
            "홀수의 합:  25\n"
          ]
        }
      ]
    },
    {
      "cell_type": "markdown",
      "source": [
        "# [예제8-3] 학생들의 코딩 점수가 리스트에 저장되어 있다고 가정하고 각 학생들의 점수를 확인한 후 90점 이상이면 'LEVEL1', 80점 이상이면 'LEVEL2', 70점 이상이면 'LEVEL3', 나머지는 'FAIL' 메시지를 출력하는 프로그램이다.(for문과 if~ else~ else문 사용)"
      ],
      "metadata": {
        "id": "wgJO4gckWGE2"
      }
    },
    {
      "cell_type": "code",
      "source": [
        "# 예제 8-3\n",
        "\n",
        "score=[85,95,70,50,100] #리스트 초기화\n",
        "n=0                     #일련번호\n",
        "print('코딩 시험 결과')\n",
        "print('-'*30)\n",
        "\n",
        "\n",
        "\n",
        "\n",
        "\n",
        "\n",
        "\n",
        "\n",
        "\n",
        "   \n",
        "    print('{}번 학생의 점수는  {}입니다.'.format(n,s))\n",
        "    print('결과는 {}입니다.'.format(result))\n",
        "    print()"
      ],
      "metadata": {
        "id": "LiEE1kNfWL9e",
        "colab": {
          "base_uri": "https://localhost:8080/"
        },
        "outputId": "daf874c7-25a3-4d81-ebd7-6972ece8ab63"
      },
      "execution_count": 3,
      "outputs": [
        {
          "output_type": "stream",
          "name": "stdout",
          "text": [
            "코딩 시험 결과\n",
            "------------------------------\n",
            "1번 학생의 점수는  85입니다.\n",
            "결과는 LEVEL2입니다.\n",
            "\n",
            "2번 학생의 점수는  95입니다.\n",
            "결과는 LEVEL1입니다.\n",
            "\n",
            "3번 학생의 점수는  70입니다.\n",
            "결과는 LEVEL3입니다.\n",
            "\n",
            "4번 학생의 점수는  50입니다.\n",
            "결과는 FAIL입니다.\n",
            "\n",
            "5번 학생의 점수는  100입니다.\n",
            "결과는 LEVEL1입니다.\n",
            "\n"
          ]
        }
      ]
    },
    {
      "cell_type": "markdown",
      "source": [
        "# [예제8-4] 컴퓨터가 생성한 주사위 숫자와 사용자가 입력한 숫자를 비교하여 높은 숫자가 나오면 이기는 주사위게임이다. '0'을 입력하면 게임은 종료되고 아무거나 입력하면 프로그램은 계속된다. 랜덤숫자를 생성하는 방법은 random모듈을 사용한다.(while문,if문 활용)"
      ],
      "metadata": {
        "id": "RpmycNO6WMVl"
      }
    },
    {
      "cell_type": "code",
      "source": [
        "import random\n",
        "\n",
        "print('주사위 게임 시작')\n",
        "throw=input('Enter를 치세요')\n",
        "\n",
        "\n",
        "\n",
        "\n",
        "\n",
        "\n",
        "\n",
        "\n",
        "    print('com {} : user {}, {} win'.format(com,user,win))\n",
        "    \n",
        "    throw=input('재시작:Enter,종료:0 ')"
      ],
      "metadata": {
        "id": "xD6AfLQAWUG-",
        "colab": {
          "base_uri": "https://localhost:8080/"
        },
        "outputId": "05285a74-74c5-4fb6-994e-23d87b0bc15d"
      },
      "execution_count": 4,
      "outputs": [
        {
          "name": "stdout",
          "output_type": "stream",
          "text": [
            "주사위 게임 시작\n",
            "Enter를 치세요5\n",
            "num: 4\n",
            "com 5 : user 4, com win\n",
            "재시작:Enter,종료:0 4\n",
            "num: 5\n",
            "com 5 : user 5, user win\n",
            "재시작:Enter,종료:0 0\n"
          ]
        }
      ]
    },
    {
      "cell_type": "markdown",
      "source": [
        "# [예제8-5] 사용자로부터 숫자를 입력받아 그래프를 그리는 프로그램이다. 단, 입력되는 숫자가 0이 들어오면 막대그래프를 그리는 것을 멈춘다.(무한루프, break문 활용)"
      ],
      "metadata": {
        "id": "mGyzzaVnWUd1"
      }
    },
    {
      "cell_type": "code",
      "source": [
        "print('입력 받은 숫자만큼 막대그래프 그리기')\n",
        "while True:\n",
        "    n = int(input('n=')) #반복횟수\n",
        "\n",
        "\n",
        "\n",
        "\n",
        "    print()"
      ],
      "metadata": {
        "id": "jSNXWp8hWfu-",
        "colab": {
          "base_uri": "https://localhost:8080/"
        },
        "outputId": "59750682-207d-4f38-f4a9-83c7b944ab44"
      },
      "execution_count": 5,
      "outputs": [
        {
          "name": "stdout",
          "output_type": "stream",
          "text": [
            "입력 받은 숫자만큼 막대그래프 그리기\n",
            "n:5\n",
            "*****\n",
            "n:4\n",
            "****\n",
            "n:10\n",
            "**********\n",
            "n:0\n"
          ]
        }
      ]
    },
    {
      "cell_type": "markdown",
      "source": [
        "# [예제8-6] 컴퓨터가 생성한 구구단 문제에 대한 정답을 사용자로부터 입력받아 'PASS', 'FAIL'을 출력하는 프로그램이다. 단, 입력되는 문자가 0이 들어오면 프로그램은 종료된다.(무한루프,break문 활용)"
      ],
      "metadata": {
        "id": "AyqghKzlWdA2"
      }
    },
    {
      "cell_type": "code",
      "source": [
        "import random\n",
        "\n",
        "print('구구단 게임')\n",
        "while True:\n",
        "    s=input('시작:아무키나,종료:0 ')\n",
        "    \n",
        "\n",
        "\n",
        "\n",
        "\n",
        "    if ans==dan*num:\n",
        "        print('pass')\n",
        "    else:\n",
        "        print('fail')"
      ],
      "metadata": {
        "id": "3W9in__oWmnO",
        "colab": {
          "base_uri": "https://localhost:8080/"
        },
        "outputId": "2e496d77-0b80-45af-beb8-46e06b01d07d"
      },
      "execution_count": 7,
      "outputs": [
        {
          "name": "stdout",
          "output_type": "stream",
          "text": [
            "구구단 게임\n",
            "시작:아무키나,종료:0 \n",
            "4 x 7 = \n",
            "answer:28\n",
            "pass\n",
            "시작:아무키나,종료:0 \n",
            "7 x 7 = \n",
            "answer:49\n",
            "pass\n",
            "시작:아무키나,종료:0 \n",
            "6 x 1 = \n",
            "answer:10\n",
            "fail\n",
            "시작:아무키나,종료:0 0\n"
          ]
        }
      ]
    },
    {
      "cell_type": "markdown",
      "source": [
        "# [예제8-7] 중첩 for문을 활용하여 실행결과와 같이 1은 1개, 2는 2개, ... 5는 5개의 숫자 피라미드를 출력하는 프로그램이다."
      ],
      "metadata": {
        "id": "byUaGNv-WnA-"
      }
    },
    {
      "cell_type": "code",
      "source": [
        "# 숫자피라미드 출력하기\n",
        "\n",
        "for :\n",
        "    for :\n",
        "        print(i, end='')\n",
        "    print()"
      ],
      "metadata": {
        "id": "eiNIaN44WtjF",
        "colab": {
          "base_uri": "https://localhost:8080/"
        },
        "outputId": "abe6f5fa-9a17-438f-81dd-b32a6b81d7ce"
      },
      "execution_count": 8,
      "outputs": [
        {
          "output_type": "stream",
          "name": "stdout",
          "text": [
            "1\n",
            "22\n",
            "333\n",
            "4444\n",
            "55555\n"
          ]
        }
      ]
    },
    {
      "cell_type": "markdown",
      "source": [
        "# [예제8-8] 중첩 for문을 활용하여 실행결과와 같이 1부터 10까지 정수에 대한 약수와 약수의 개수를 구하는 프로그램이다."
      ],
      "metadata": {
        "id": "gUs9QoLzWuyu"
      }
    },
    {
      "cell_type": "code",
      "source": [
        "# 약수와 약수의 개수 출력하기\n",
        "\n",
        "for i in range(1,11):\n",
        "    cnt=0\n",
        "    print('%2d의 약수 : ' % i, end='')\n",
        "    for j in range(1,i+1):\n",
        "        if i % j==0:\n",
        "            print(j,end=' ')\n",
        "            cnt +=1\n",
        "    print('(%d)' % cnt)"
      ],
      "metadata": {
        "id": "zq0FsIWLW0Z-",
        "colab": {
          "base_uri": "https://localhost:8080/"
        },
        "outputId": "290bb2da-9ec0-4f85-eee3-30c0748d1c40"
      },
      "execution_count": 25,
      "outputs": [
        {
          "output_type": "stream",
          "name": "stdout",
          "text": [
            " 1의 약수 : 1 (1)\n",
            " 2의 약수 : 1 2 (2)\n",
            " 3의 약수 : 1 3 (2)\n",
            " 4의 약수 : 1 2 4 (3)\n",
            " 5의 약수 : 1 5 (2)\n",
            " 6의 약수 : 1 2 3 6 (4)\n",
            " 7의 약수 : 1 7 (2)\n",
            " 8의 약수 : 1 2 4 8 (4)\n",
            " 9의 약수 : 1 3 9 (3)\n",
            "10의 약수 : 1 2 5 10 (4)\n"
          ]
        }
      ]
    },
    {
      "cell_type": "markdown",
      "source": [
        "# 예제8-9 리스트에 저장된 점수를 비교하여 전체 순위를 구하는 프로그램이다. score리스트에 5개의 점수가 저장되어 있다고 가정한다. 외부 for문에서 선택한 리스트의 값과 내부 for문에서 모든 리스트의 값과 비교한다. 외부 for문에서 선택된 리스트 값보다 내부 for문에서 큰값이 존재한다면 순위는 순위+1로 계산된다.(리스트,for문 활용)"
      ],
      "metadata": {
        "id": "C6hJNad7W0ze"
      }
    },
    {
      "cell_type": "code",
      "source": [
        "# 순위 구하기\n",
        "\n",
        "score=[70,80,60,100,50]\n",
        "rank=[0,0,0,0,0]\n",
        "n=len(score)\n",
        "for i in range(n):\n",
        "    rank[i]=1\n",
        "    \n",
        "    \n",
        "\n",
        "for i in range(n):\n",
        "    print('score {}, rank {}'.format(score[i],rank[i]))"
      ],
      "metadata": {
        "id": "T-70WBVsW4aW",
        "colab": {
          "base_uri": "https://localhost:8080/"
        },
        "outputId": "1f201e54-0504-4a4c-eabf-d26a20e35fa0"
      },
      "execution_count": 28,
      "outputs": [
        {
          "output_type": "stream",
          "name": "stdout",
          "text": [
            "score 70, rank 3\n",
            "score 80, rank 2\n",
            "score 60, rank 4\n",
            "score 100, rank 1\n",
            "score 50, rank 5\n"
          ]
        }
      ]
    },
    {
      "cell_type": "markdown",
      "source": [
        "# [예제8-10] 리스트에 저장된 점수를 차례대로 읽어 와서 리스트 저장된 번호 순으로 '합격' 또는 '불합격'을 출력하고 합격한 학생 수를 출력하는 프로그램이다. 합격의 기준은 점수가 80점이상이다.(리스트,for문, if~else문 활용)"
      ],
      "metadata": {
        "id": "Ke3nHWPbW63-"
      }
    },
    {
      "cell_type": "code",
      "source": [
        "score=[60,80,90,70,95]\n",
        "cnt=0\n",
        "print(score)\n",
        "for i in range(len(score)):\n",
        "    if score[i]>80:\n",
        "        result='합격'\n",
        "        cnt += 1\n",
        "    else:\n",
        "        result='불합격'\n",
        "    print('{}번 학생은 {}입니다.'.format(i+1,result))\n",
        "\n",
        "print('합격한 학생 수: ', cnt)"
      ],
      "metadata": {
        "id": "TjeqDEgDXBSO",
        "colab": {
          "base_uri": "https://localhost:8080/"
        },
        "outputId": "f9211777-715b-4a3b-a448-786ac4397b52"
      },
      "execution_count": 11,
      "outputs": [
        {
          "output_type": "stream",
          "name": "stdout",
          "text": [
            "[60, 80, 90, 70, 95]\n",
            "1번 학생은 불합격입니다.\n",
            "2번 학생은 불합격입니다.\n",
            "3번 학생은 합격입니다.\n",
            "4번 학생은 불합격입니다.\n",
            "5번 학생은 합격입니다.\n",
            "합격한 학생 수:  2\n"
          ]
        }
      ]
    },
    {
      "cell_type": "markdown",
      "source": [
        "# [예제8-11]딕셔너리에 학생 식당 메뉴(키)와 가격(값)을 저장하고 전체 정보를 출력한 후 메뉴에 대한 가격을 검색해서 출력해주는 프로그램이다. 프로그램은 'q'를 입력하면 종료된다.\n",
        "- 라면:3000원\n",
        "- 떡복이:4000원\n",
        "- 김밥:2000원\n",
        "- 햄버거:5000원"
      ],
      "metadata": {
        "id": "BvFSCzSQXIMW"
      }
    },
    {
      "cell_type": "code",
      "source": [
        "menu={}\n",
        "\n",
        "menu['라면']=3000\n",
        "menu['떡볶이']=4000\n",
        "menu['김밥']=2000\n",
        "menu['햄버거']=5000\n",
        "\n",
        "for i in menu.keys():\n",
        "    print('{}-{}'.format(i,menu[i]))\n",
        "\n",
        "while True:\n",
        "    s=input('seach menu : ')\n",
        "    if s=='q':break\n",
        "    print(menu.get(s,'not Found'))"
      ],
      "metadata": {
        "id": "4Y50_vHRXMxf",
        "colab": {
          "base_uri": "https://localhost:8080/"
        },
        "outputId": "1d902a37-e080-4a01-8aed-d08430bc64f9"
      },
      "execution_count": 12,
      "outputs": [
        {
          "name": "stdout",
          "output_type": "stream",
          "text": [
            "라면-3000\n",
            "떡볶이-4000\n",
            "김밥-2000\n",
            "햄버거-5000\n",
            "seach menu : 김밥\n",
            "2000\n",
            "seach menu : 라면\n",
            "3000\n",
            "seach menu : 참치마요\n",
            "not Found\n",
            "seach menu : q\n"
          ]
        }
      ]
    },
    {
      "cell_type": "markdown",
      "source": [
        "# [예제8-12] 리스트에 동아리 회원의 정보를 사용자로부터 입력 받아 출력하는 프로그램이다. 딕셔너리 키에 해당되는 값을 사용자로부터 입력 받아 딕셔너리에 저장한 후 딕셔너리에 저장된 정보를 리스트에 최종 저장한 후 회원정보를 출력한다. 학번에 0 을 입력하면 프로그램은 종료된다."
      ],
      "metadata": {
        "id": "QCkNIolcXNR2"
      }
    },
    {
      "cell_type": "code",
      "source": [
        "n=0\n",
        "club=[]\n",
        "\n",
        "while True:\n",
        "    num=int(input('학번:'))\n",
        "    if num==0:break\n",
        "    name=input('이름:')\n",
        "    dept=input('학과:')\n",
        "    phone=input('연락처:')\n",
        "    addr={'학번':num,'이름':name,'학과':dept,'연락처':phone}\n",
        "    club.append(addr)\n",
        "    print('{} 학생 정보 저장'.format(n+1))\n",
        "    print('{}'.format(club[n]))\n",
        "    n += 1"
      ],
      "metadata": {
        "id": "CaKfdCh9XRzX",
        "colab": {
          "base_uri": "https://localhost:8080/"
        },
        "outputId": "b4b86dd2-d35f-44bf-c3b8-f563677a5319"
      },
      "execution_count": 15,
      "outputs": [
        {
          "name": "stdout",
          "output_type": "stream",
          "text": [
            "학번:21228\n",
            "이름:황태준\n",
            "학과:기초교육원\n",
            "연락처:010-1234-5678\n",
            "1 학생 정보 저장\n",
            "{'학번': 21228, '이름': '황태준', '학과': '기초교육원', '연락처': '010-1234-5678'}\n",
            "학번:21229\n",
            "이름:홍길동\n",
            "학과:정보전산원\n",
            "연락처:010-5678-1234\n",
            "2 학생 정보 저장\n",
            "{'학번': 21229, '이름': '홍길동', '학과': '정보전산원', '연락처': '010-5678-1234'}\n",
            "학번:0\n"
          ]
        }
      ]
    },
    {
      "cell_type": "markdown",
      "source": [
        "# 실습8-1 이번학기 수강하는 과목의 점수를 입력받아 리스트에 저장하고, '합격'과 '불합격'한 과목의 수를 각각 출력한다.(합격:80점 이상)"
      ],
      "metadata": {
        "id": "6OEqn2sXXSPe"
      }
    },
    {
      "cell_type": "code",
      "source": [
        "score=[]\n",
        "p,f=0,0\n",
        "cnt=int(input('수강 과목 수 : '))\n",
        "\n",
        "\n",
        "\n",
        "print('pass : ', p)\n",
        "print('fail : ', f)"
      ],
      "metadata": {
        "id": "zMaUQbZbXopt",
        "colab": {
          "base_uri": "https://localhost:8080/"
        },
        "outputId": "6344f36e-bc0d-4ead-d328-a47636ed467c"
      },
      "execution_count": 16,
      "outputs": [
        {
          "output_type": "stream",
          "name": "stdout",
          "text": [
            "수강 과목 수 : 5\n",
            "score 1 : 100\n",
            "score 2 : 70\n",
            "score 3 : 60\n",
            "score 4 : 80\n",
            "score 5 : 90\n",
            "pass :  3\n",
            "fail :  2\n"
          ]
        }
      ]
    },
    {
      "cell_type": "markdown",
      "source": [
        "# 실습8-2 사용자로부터 시작과 끝 값을 입력 받은 후 3의 배수를 제외한 모든 숫자의 합계를 출력한다."
      ],
      "metadata": {
        "id": "i_WATIdhXu7W"
      }
    },
    {
      "cell_type": "code",
      "source": [
        "s=int(input('start num: '))\n",
        "e=int(input('end num: '))\n",
        "\n",
        "total=0\n",
        "\n",
        "\n",
        "\n",
        "print('3의 배수를 제외한 숫자의 합', total)"
      ],
      "metadata": {
        "id": "x-Qvr193X6hW",
        "colab": {
          "base_uri": "https://localhost:8080/"
        },
        "outputId": "e206b5de-f248-4e04-9daa-ec388c0118b4"
      },
      "execution_count": 17,
      "outputs": [
        {
          "output_type": "stream",
          "name": "stdout",
          "text": [
            "start num: 1\n",
            "end num: 10\n",
            "3의 배수를 제외한 숫자의 합 37\n"
          ]
        }
      ]
    },
    {
      "cell_type": "markdown",
      "source": [
        "# 실습8-3 사용자로부터 정수를 입력 받아 덧셈을 수행하려 한다. 사용자가 0을 입력할때 까지 모든 정수의 더한 결과를 출력한다."
      ],
      "metadata": {
        "id": "awTHQI-0X79e"
      }
    },
    {
      "cell_type": "code",
      "source": [
        "print('정수를 입력. 0 입력시 종료됨')\n",
        "total=0\n",
        "s=int(input('num : '))\n",
        "\n",
        "\n",
        "\n",
        "print('총 합계 : ',total)"
      ],
      "metadata": {
        "id": "rHmd3K4EYMWG",
        "colab": {
          "base_uri": "https://localhost:8080/"
        },
        "outputId": "60457651-3145-49a6-d600-3975122f7158"
      },
      "execution_count": 18,
      "outputs": [
        {
          "output_type": "stream",
          "name": "stdout",
          "text": [
            "정수를 입력. 0 입력시 종료됨\n",
            "num : 100\n",
            "num : 100\n",
            "num : 100\n",
            "num : 100\n",
            "num : 0\n",
            "총 합계 :  400\n"
          ]
        }
      ]
    },
    {
      "cell_type": "markdown",
      "source": [
        "# 도전1-1 다음은 컴퓨터가 생성한 두 자리 정수 덧셈 문제에 대한 정답을 사용자로부터 입력 받아 '정답' 또는 '오답'을 출력하는 프로그램이다. 정답, 오답시 아래와 같이 점수를 계산한다. 다음 프로그램의 실행결과를 보고 빈곳에 알맞은 답을 예측해보자."
      ],
      "metadata": {
        "id": "d6P7vYMUYMw1"
      }
    },
    {
      "cell_type": "code",
      "source": [
        "import random\n",
        "\n",
        "print('덧셈 게임')\n",
        "                  #<-점수를 초기화 하는 부분\n",
        "while True:\n",
        "    s=input('시작:아무키나,종료:0 ')\n",
        "    if s=='0':break\n",
        "    n1=random.      # 10~99사이의 난수발생\n",
        "    n2=random.      # 10~99사이의 난수발생\n",
        "    print('{} + {} = '.format(n1,n2))\n",
        "    ans=int(input('answer:'))\n",
        "    if            : #참인 조건식\n",
        "        print('정답')\n",
        "        score +=10\n",
        "    else:\n",
        "        print('오답')\n",
        "        score -=5\n",
        "\n",
        "print('score : ',score)"
      ],
      "metadata": {
        "id": "YLlO6u_QYz-O",
        "colab": {
          "base_uri": "https://localhost:8080/"
        },
        "outputId": "9b4c040f-bb39-428d-86c9-bdc1aaf5ce07"
      },
      "execution_count": 19,
      "outputs": [
        {
          "output_type": "stream",
          "name": "stdout",
          "text": [
            "덧셈 게임\n",
            "시작:아무키나,종료:0 \n",
            "44 + 83 = \n",
            "answer:127\n",
            "정답\n",
            "시작:아무키나,종료:0 \n",
            "66 + 23 = \n",
            "answer:89\n",
            "정답\n",
            "시작:아무키나,종료:0 \n",
            "17 + 77 = \n",
            "answer:100\n",
            "오답\n",
            "시작:아무키나,종료:0 0\n",
            "score :  15\n"
          ]
        }
      ]
    },
    {
      "cell_type": "markdown",
      "source": [
        "# 도전1-2 다음은 코딩 시험을 5회 응시한 점수를 입력 받아 리스트에 저장하고 총점과 평균을 출력하는 프로그램이다. 다음 프로그램의 실행결과를 보고 빈곳에 알맞은 답을 예측해보자."
      ],
      "metadata": {
        "id": "LaKQ0gWrY2kV"
      }
    },
    {
      "cell_type": "code",
      "source": [
        "# 도전1-2\n",
        "\n",
        "score=[]\n",
        "total=0\n",
        "for i in range(5):\n",
        "    s=int(input('score : '))\n",
        "               # 점수에 데이터 추가\n",
        "\n",
        "for i in score:\n",
        "               # score에 저장된 5개의 값을 total에 누적함\n",
        "\n",
        "avg =          # score에 저장된 평균 계산\n",
        "\n",
        "print('total :',total)\n",
        "print('avg :',avg)"
      ],
      "metadata": {
        "id": "UDJw4igJZK8u",
        "colab": {
          "base_uri": "https://localhost:8080/"
        },
        "outputId": "07b3a202-54cc-42c1-b782-90de65e58cfd"
      },
      "execution_count": 20,
      "outputs": [
        {
          "output_type": "stream",
          "name": "stdout",
          "text": [
            "score : 100\n",
            "score : 100\n",
            "score : 100\n",
            "score : 100\n",
            "score : 100\n",
            "total : 500\n",
            "avg : 100.0\n"
          ]
        }
      ]
    },
    {
      "cell_type": "markdown",
      "source": [
        "# 도전1-3 다음은 특정 상품에 대한 가격 5개를 사용자에게 입력 받아 리스트에 저장한 후 리스트 요소에서 최저가격을 찾아서 출력하는 프로그램이다. 다음 프로그램의 실행결과를 보고 빈곳에 알맞은 답을 예측해보자. sort()함수는 사용하지 않는다.(상품의 가격은 10,000원~20,000원)"
      ],
      "metadata": {
        "id": "r5_HEJ-lZLl9"
      }
    },
    {
      "cell_type": "code",
      "source": [
        "# 도전1-3\n",
        "price=[]\n",
        "\n",
        "for i in range(5):\n",
        "    p=int(input('price : '))\n",
        "    price.append(p)\n",
        "\n",
        "m=price[0]\n",
        "\n",
        "for i in range(1,5):\n",
        "    if           : # m과 price를 비교하는 조건식\n",
        "                   # 조건식 참일때 실행된는 코드\n",
        "\n",
        "print('min :',m)"
      ],
      "metadata": {
        "id": "6clT4ekXZrod",
        "colab": {
          "base_uri": "https://localhost:8080/"
        },
        "outputId": "efb642d2-f731-4c0c-d300-7b4cb2d3b5df"
      },
      "execution_count": 21,
      "outputs": [
        {
          "output_type": "stream",
          "name": "stdout",
          "text": [
            "price : 12000\n",
            "price : 10000\n",
            "price : 15000\n",
            "price : 17000\n",
            "price : 10000\n",
            "min : 10000\n"
          ]
        }
      ]
    },
    {
      "cell_type": "markdown",
      "source": [
        "# 도전2-1 스마트폰에서 친구를 등록하고, 친구 이름으로 검색한 후 연락처를 출력하는 프로그램을 작성하시오. 실행결과를 참고하여 문제를 해결하시오.(딕셔너리)\n",
        "-조건\n",
        "1. 선택메뉴:1)친구등록 2)검색 3)종료\n",
        "2. 딕셔너리 자료 구조 사용\n",
        "3. 새로운 친구를 등록한다.\n",
        "4. 찾는 친구가 있으면 연락처를 출력하고 없으면 에러 메시지를 출력한다."
      ],
      "metadata": {
        "id": "n8ZrSkT_Zz2G"
      }
    },
    {
      "cell_type": "code",
      "source": [
        "# 도전 2-1\n"
      ],
      "metadata": {
        "id": "a1TCri_daXny",
        "colab": {
          "base_uri": "https://localhost:8080/"
        },
        "outputId": "42104640-7a7c-4fb9-8474-b6ca16ae4e2c"
      },
      "execution_count": 22,
      "outputs": [
        {
          "name": "stdout",
          "output_type": "stream",
          "text": [
            "1) 친구 등록 2) 검색 3) 종료 : 1\n",
            "name : 장은실\n",
            "phone : 010-0000-0000\n",
            "1) 친구 등록 2) 검색 3) 종료 : 1\n",
            "name : 오경선\n",
            "phone : 010-1111-1111\n",
            "1) 친구 등록 2) 검색 3) 종료 : 1\n",
            "name : 황태준\n",
            "phone : 010-2222-2222\n",
            "1) 친구 등록 2) 검색 3) 종료 : 2\n",
            "name : 황태준\n",
            "010-2222-2222\n",
            "1) 친구 등록 2) 검색 3) 종료 : 2\n",
            "name : 홍길동\n",
            "not Found\n",
            "1) 친구 등록 2) 검색 3) 종료 : 3\n"
          ]
        }
      ]
    },
    {
      "cell_type": "markdown",
      "source": [
        "# 도전2-2 사용자로부터 암호를 입력받아 인증 처리하는 프로그램을 작성하시오. 실행결과를 참고하여 문제를 해결하시오.\n",
        "-조건\n",
        "1. 사용자로부터 암호를 입력받고 암호가 맞으면 '환영합니다'메시지를 출력하고 프로그램을 종료한다.\n",
        "2. 틀린 암호가 입력되면 '암호가 틀립니다' 메시지를 출력하고 다시 입력받는다.\n",
        "3. 사용자가 암호를 3번 잘못 입력하면 '접속을 거부합니다'라는 메시지를 출력하고 프로그램을 종료한다.(암호는 admin)\n",
        "4. 변수명 : 암호(pw),시도횟수(cnt)"
      ],
      "metadata": {
        "id": "g8lVpTgMaZcN"
      }
    },
    {
      "cell_type": "code",
      "source": [
        "# 도전 2-2\n"
      ],
      "metadata": {
        "id": "fQrUMOhTbRxl",
        "colab": {
          "base_uri": "https://localhost:8080/"
        },
        "outputId": "dd5e4283-3c53-4194-aa91-09f585c39d14"
      },
      "execution_count": 23,
      "outputs": [
        {
          "output_type": "stream",
          "name": "stdout",
          "text": [
            "패스워드 입력 : aa\n",
            "암호가 틀립니다.\n",
            "패스워드 입력 : ad\n",
            "암호가 틀립니다.\n",
            "패스워드 입력 : admin\n",
            "환영합니다.\n",
            "프로그램 종료\n"
          ]
        }
      ]
    },
    {
      "cell_type": "markdown",
      "source": [
        "# 도전2-3 다음은 행운의 로또 복권 추첨 프로그램 일부분이다. 로또 번호는 1~45숫자 중 총 6개의 숫자로 구성된다. 코드의 빈곳을 채우시오."
      ],
      "metadata": {
        "id": "PjGi_NbwbrAU"
      }
    },
    {
      "cell_type": "code",
      "source": [
        "# 도전2-3\n",
        "\n",
        "import random\n",
        "\n",
        "lotto=[]\n",
        "print('로또 프로그램 시작')\n",
        "\n",
        "while True:\n",
        "    \n",
        "\n",
        "    \n",
        "\n",
        "print('추첨된 로또 번호')\n",
        "lotto.sort()\n",
        "    \n",
        "for i in range(6):\n",
        "    print('{} '.format(lotto[i]), end='')"
      ],
      "metadata": {
        "id": "KPAn37rabsL0",
        "colab": {
          "base_uri": "https://localhost:8080/"
        },
        "outputId": "833bb1e9-ed4a-4b11-8e2f-8ecd0f41cc27"
      },
      "execution_count": 24,
      "outputs": [
        {
          "output_type": "stream",
          "name": "stdout",
          "text": [
            "로또 프로그램 시작\n",
            "추첨된 로또 번호\n",
            "5 10 14 21 28 45 "
          ]
        }
      ]
    }
  ]
}